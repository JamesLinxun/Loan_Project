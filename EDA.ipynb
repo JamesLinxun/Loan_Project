{
 "cells": [
  {
   "cell_type": "code",
   "execution_count": 1,
   "metadata": {},
   "outputs": [],
   "source": [
    "import math\n",
    "import numpy as np\n",
    "import pandas as pd\n",
    "import matplotlib.pyplot as plt"
   ]
  },
  {
   "cell_type": "markdown",
   "metadata": {},
   "source": [
    "## 1. load data and quick overview"
   ]
  },
  {
   "cell_type": "code",
   "execution_count": 2,
   "metadata": {},
   "outputs": [],
   "source": [
    "training_data = pd.read_csv(\"training_loan_data.csv\", \n",
    "                            skiprows=1,\n",
    "                            dtype={'id': 'Int64', 'member_id': 'Int64', \n",
    "                                   'inq_last_6mths': 'Int64', 'mths_since_last_major_derog': 'Int64',\n",
    "                                   'mths_since_recent_inq': 'Int64',\n",
    "                                   'bad_flag':'Int64'\n",
    "                                  })"
   ]
  },
  {
   "cell_type": "code",
   "execution_count": 3,
   "metadata": {},
   "outputs": [
    {
     "data": {
      "text/html": [
       "<div>\n",
       "<style scoped>\n",
       "    .dataframe tbody tr th:only-of-type {\n",
       "        vertical-align: middle;\n",
       "    }\n",
       "\n",
       "    .dataframe tbody tr th {\n",
       "        vertical-align: top;\n",
       "    }\n",
       "\n",
       "    .dataframe thead th {\n",
       "        text-align: right;\n",
       "    }\n",
       "</style>\n",
       "<table border=\"1\" class=\"dataframe\">\n",
       "  <thead>\n",
       "    <tr style=\"text-align: right;\">\n",
       "      <th></th>\n",
       "      <th>id</th>\n",
       "      <th>member_id</th>\n",
       "      <th>loan_amnt</th>\n",
       "      <th>term</th>\n",
       "      <th>int_rate</th>\n",
       "      <th>emp_length</th>\n",
       "      <th>home_ownership</th>\n",
       "      <th>annual_inc</th>\n",
       "      <th>desc</th>\n",
       "      <th>purpose</th>\n",
       "      <th>...</th>\n",
       "      <th>inq_last_6mths</th>\n",
       "      <th>mths_since_recent_inq</th>\n",
       "      <th>revol_util</th>\n",
       "      <th>total_bc_limit</th>\n",
       "      <th>mths_since_last_major_derog</th>\n",
       "      <th>tot_hi_cred_lim</th>\n",
       "      <th>tot_cur_bal</th>\n",
       "      <th>application_approved_flag</th>\n",
       "      <th>internal_score</th>\n",
       "      <th>bad_flag</th>\n",
       "    </tr>\n",
       "  </thead>\n",
       "  <tbody>\n",
       "    <tr>\n",
       "      <th>0</th>\n",
       "      <td>10000001</td>\n",
       "      <td>11983056</td>\n",
       "      <td>7550</td>\n",
       "      <td>36 months</td>\n",
       "      <td>16.24%</td>\n",
       "      <td>3 years</td>\n",
       "      <td>RENT</td>\n",
       "      <td>28000.0</td>\n",
       "      <td>NaN</td>\n",
       "      <td>debt_consolidation</td>\n",
       "      <td>...</td>\n",
       "      <td>0</td>\n",
       "      <td>17</td>\n",
       "      <td>72%</td>\n",
       "      <td>4000.0</td>\n",
       "      <td>&lt;NA&gt;</td>\n",
       "      <td>3828.953801</td>\n",
       "      <td>5759.0</td>\n",
       "      <td>1</td>\n",
       "      <td>99</td>\n",
       "      <td>0</td>\n",
       "    </tr>\n",
       "    <tr>\n",
       "      <th>1</th>\n",
       "      <td>10000002</td>\n",
       "      <td>12002921</td>\n",
       "      <td>27050</td>\n",
       "      <td>36 months</td>\n",
       "      <td>10.99%</td>\n",
       "      <td>10+ years</td>\n",
       "      <td>OWN</td>\n",
       "      <td>55000.0</td>\n",
       "      <td>Borrower added on 12/31/13 &gt; Combining high ...</td>\n",
       "      <td>debt_consolidation</td>\n",
       "      <td>...</td>\n",
       "      <td>0</td>\n",
       "      <td>8</td>\n",
       "      <td>61.20%</td>\n",
       "      <td>35700.0</td>\n",
       "      <td>&lt;NA&gt;</td>\n",
       "      <td>34359.940730</td>\n",
       "      <td>114834.0</td>\n",
       "      <td>1</td>\n",
       "      <td>353</td>\n",
       "      <td>0</td>\n",
       "    </tr>\n",
       "    <tr>\n",
       "      <th>2</th>\n",
       "      <td>10000003</td>\n",
       "      <td>11983096</td>\n",
       "      <td>12000</td>\n",
       "      <td>36 months</td>\n",
       "      <td>10.99%</td>\n",
       "      <td>4 years</td>\n",
       "      <td>RENT</td>\n",
       "      <td>60000.0</td>\n",
       "      <td>Borrower added on 12/31/13 &gt; I would like to...</td>\n",
       "      <td>debt_consolidation</td>\n",
       "      <td>...</td>\n",
       "      <td>1</td>\n",
       "      <td>3</td>\n",
       "      <td>24%</td>\n",
       "      <td>18100.0</td>\n",
       "      <td>&lt;NA&gt;</td>\n",
       "      <td>16416.617760</td>\n",
       "      <td>7137.0</td>\n",
       "      <td>1</td>\n",
       "      <td>157</td>\n",
       "      <td>0</td>\n",
       "    </tr>\n",
       "    <tr>\n",
       "      <th>3</th>\n",
       "      <td>10000004</td>\n",
       "      <td>12003142</td>\n",
       "      <td>28000</td>\n",
       "      <td>36 months</td>\n",
       "      <td>7.62%</td>\n",
       "      <td>5 years</td>\n",
       "      <td>MORTGAGE</td>\n",
       "      <td>325000.0</td>\n",
       "      <td>NaN</td>\n",
       "      <td>debt_consolidation</td>\n",
       "      <td>...</td>\n",
       "      <td>1</td>\n",
       "      <td>3</td>\n",
       "      <td>54.60%</td>\n",
       "      <td>42200.0</td>\n",
       "      <td>&lt;NA&gt;</td>\n",
       "      <td>38014.149760</td>\n",
       "      <td>799592.0</td>\n",
       "      <td>1</td>\n",
       "      <td>365</td>\n",
       "      <td>0</td>\n",
       "    </tr>\n",
       "    <tr>\n",
       "      <th>4</th>\n",
       "      <td>10000005</td>\n",
       "      <td>11993233</td>\n",
       "      <td>12000</td>\n",
       "      <td>36 months</td>\n",
       "      <td>13.53%</td>\n",
       "      <td>10+ years</td>\n",
       "      <td>RENT</td>\n",
       "      <td>40000.0</td>\n",
       "      <td>NaN</td>\n",
       "      <td>debt_consolidation</td>\n",
       "      <td>...</td>\n",
       "      <td>0</td>\n",
       "      <td>17</td>\n",
       "      <td>68.80%</td>\n",
       "      <td>7000.0</td>\n",
       "      <td>53</td>\n",
       "      <td>6471.462236</td>\n",
       "      <td>13605.0</td>\n",
       "      <td>1</td>\n",
       "      <td>157</td>\n",
       "      <td>0</td>\n",
       "    </tr>\n",
       "  </tbody>\n",
       "</table>\n",
       "<p>5 rows × 23 columns</p>\n",
       "</div>"
      ],
      "text/plain": [
       "         id  member_id  loan_amnt        term int_rate emp_length  \\\n",
       "0  10000001   11983056       7550   36 months   16.24%    3 years   \n",
       "1  10000002   12002921      27050   36 months   10.99%  10+ years   \n",
       "2  10000003   11983096      12000   36 months   10.99%    4 years   \n",
       "3  10000004   12003142      28000   36 months    7.62%    5 years   \n",
       "4  10000005   11993233      12000   36 months   13.53%  10+ years   \n",
       "\n",
       "  home_ownership  annual_inc  \\\n",
       "0           RENT     28000.0   \n",
       "1            OWN     55000.0   \n",
       "2           RENT     60000.0   \n",
       "3       MORTGAGE    325000.0   \n",
       "4           RENT     40000.0   \n",
       "\n",
       "                                                desc             purpose  ...  \\\n",
       "0                                                NaN  debt_consolidation  ...   \n",
       "1    Borrower added on 12/31/13 > Combining high ...  debt_consolidation  ...   \n",
       "2    Borrower added on 12/31/13 > I would like to...  debt_consolidation  ...   \n",
       "3                                                NaN  debt_consolidation  ...   \n",
       "4                                                NaN  debt_consolidation  ...   \n",
       "\n",
       "   inq_last_6mths  mths_since_recent_inq  revol_util  total_bc_limit  \\\n",
       "0               0                     17         72%          4000.0   \n",
       "1               0                      8      61.20%         35700.0   \n",
       "2               1                      3         24%         18100.0   \n",
       "3               1                      3      54.60%         42200.0   \n",
       "4               0                     17      68.80%          7000.0   \n",
       "\n",
       "   mths_since_last_major_derog tot_hi_cred_lim  tot_cur_bal  \\\n",
       "0                         <NA>     3828.953801       5759.0   \n",
       "1                         <NA>    34359.940730     114834.0   \n",
       "2                         <NA>    16416.617760       7137.0   \n",
       "3                         <NA>    38014.149760     799592.0   \n",
       "4                           53     6471.462236      13605.0   \n",
       "\n",
       "   application_approved_flag  internal_score  bad_flag  \n",
       "0                          1              99         0  \n",
       "1                          1             353         0  \n",
       "2                          1             157         0  \n",
       "3                          1             365         0  \n",
       "4                          1             157         0  \n",
       "\n",
       "[5 rows x 23 columns]"
      ]
     },
     "execution_count": 3,
     "metadata": {},
     "output_type": "execute_result"
    }
   ],
   "source": [
    "training_data.head()"
   ]
  },
  {
   "cell_type": "code",
   "execution_count": 4,
   "metadata": {},
   "outputs": [
    {
     "data": {
      "text/plain": [
       "Index(['id', 'member_id', 'loan_amnt', 'term', 'int_rate', 'emp_length',\n",
       "       'home_ownership', 'annual_inc', 'desc', 'purpose', 'percent_bc_gt_75',\n",
       "       'bc_util', 'dti', 'inq_last_6mths', 'mths_since_recent_inq',\n",
       "       'revol_util', 'total_bc_limit', 'mths_since_last_major_derog',\n",
       "       'tot_hi_cred_lim', 'tot_cur_bal', 'application_approved_flag',\n",
       "       'internal_score', 'bad_flag'],\n",
       "      dtype='object')"
      ]
     },
     "execution_count": 4,
     "metadata": {},
     "output_type": "execute_result"
    }
   ],
   "source": [
    "training_data.columns"
   ]
  },
  {
   "cell_type": "code",
   "execution_count": 5,
   "metadata": {},
   "outputs": [
    {
     "data": {
      "text/plain": [
       "(199121, 23)"
      ]
     },
     "execution_count": 5,
     "metadata": {},
     "output_type": "execute_result"
    }
   ],
   "source": [
    "training_data.shape"
   ]
  },
  {
   "cell_type": "code",
   "execution_count": 6,
   "metadata": {},
   "outputs": [
    {
     "data": {
      "text/html": [
       "<div>\n",
       "<style scoped>\n",
       "    .dataframe tbody tr th:only-of-type {\n",
       "        vertical-align: middle;\n",
       "    }\n",
       "\n",
       "    .dataframe tbody tr th {\n",
       "        vertical-align: top;\n",
       "    }\n",
       "\n",
       "    .dataframe thead th {\n",
       "        text-align: right;\n",
       "    }\n",
       "</style>\n",
       "<table border=\"1\" class=\"dataframe\">\n",
       "  <thead>\n",
       "    <tr style=\"text-align: right;\">\n",
       "      <th></th>\n",
       "      <th>id</th>\n",
       "      <th>member_id</th>\n",
       "      <th>loan_amnt</th>\n",
       "      <th>annual_inc</th>\n",
       "      <th>percent_bc_gt_75</th>\n",
       "      <th>bc_util</th>\n",
       "      <th>dti</th>\n",
       "      <th>inq_last_6mths</th>\n",
       "      <th>mths_since_recent_inq</th>\n",
       "      <th>total_bc_limit</th>\n",
       "      <th>mths_since_last_major_derog</th>\n",
       "      <th>tot_hi_cred_lim</th>\n",
       "      <th>tot_cur_bal</th>\n",
       "      <th>application_approved_flag</th>\n",
       "      <th>internal_score</th>\n",
       "      <th>bad_flag</th>\n",
       "    </tr>\n",
       "  </thead>\n",
       "  <tbody>\n",
       "    <tr>\n",
       "      <th>count</th>\n",
       "      <td>199121.0</td>\n",
       "      <td>189457.0</td>\n",
       "      <td>199121.000000</td>\n",
       "      <td>1.894570e+05</td>\n",
       "      <td>180419.000000</td>\n",
       "      <td>180333.000000</td>\n",
       "      <td>189457.000000</td>\n",
       "      <td>189457.0</td>\n",
       "      <td>161472.0</td>\n",
       "      <td>181962.000000</td>\n",
       "      <td>32749.0</td>\n",
       "      <td>181962.000000</td>\n",
       "      <td>1.617160e+05</td>\n",
       "      <td>199121.0</td>\n",
       "      <td>199121.000000</td>\n",
       "      <td>189457.0</td>\n",
       "    </tr>\n",
       "    <tr>\n",
       "      <th>mean</th>\n",
       "      <td>10098566.911205</td>\n",
       "      <td>5929625.920367</td>\n",
       "      <td>14071.947334</td>\n",
       "      <td>7.224330e+04</td>\n",
       "      <td>53.575807</td>\n",
       "      <td>66.840867</td>\n",
       "      <td>17.061084</td>\n",
       "      <td>0.803549</td>\n",
       "      <td>6.993634</td>\n",
       "      <td>20239.424699</td>\n",
       "      <td>41.780054</td>\n",
       "      <td>20238.384308</td>\n",
       "      <td>1.373215e+05</td>\n",
       "      <td>1.0</td>\n",
       "      <td>183.967954</td>\n",
       "      <td>0.069293</td>\n",
       "    </tr>\n",
       "    <tr>\n",
       "      <th>std</th>\n",
       "      <td>57043.972099</td>\n",
       "      <td>3339821.824345</td>\n",
       "      <td>8067.076636</td>\n",
       "      <td>5.180483e+04</td>\n",
       "      <td>34.153946</td>\n",
       "      <td>26.111490</td>\n",
       "      <td>7.596941</td>\n",
       "      <td>1.032936</td>\n",
       "      <td>5.879707</td>\n",
       "      <td>18879.795379</td>\n",
       "      <td>20.984599</td>\n",
       "      <td>18941.591779</td>\n",
       "      <td>1.507358e+05</td>\n",
       "      <td>0.0</td>\n",
       "      <td>104.858324</td>\n",
       "      <td>0.253952</td>\n",
       "    </tr>\n",
       "    <tr>\n",
       "      <th>min</th>\n",
       "      <td>10000001.0</td>\n",
       "      <td>151536.0</td>\n",
       "      <td>1000.000000</td>\n",
       "      <td>4.800000e+03</td>\n",
       "      <td>0.000000</td>\n",
       "      <td>0.000000</td>\n",
       "      <td>0.000000</td>\n",
       "      <td>0.0</td>\n",
       "      <td>0.0</td>\n",
       "      <td>0.000000</td>\n",
       "      <td>0.0</td>\n",
       "      <td>0.000000</td>\n",
       "      <td>0.000000e+00</td>\n",
       "      <td>1.0</td>\n",
       "      <td>14.000000</td>\n",
       "      <td>0.0</td>\n",
       "    </tr>\n",
       "    <tr>\n",
       "      <th>25%</th>\n",
       "      <td>10049582.0</td>\n",
       "      <td>2308792.0</td>\n",
       "      <td>8000.000000</td>\n",
       "      <td>4.500000e+04</td>\n",
       "      <td>25.000000</td>\n",
       "      <td>49.500000</td>\n",
       "      <td>11.340000</td>\n",
       "      <td>0.0</td>\n",
       "      <td>2.0</td>\n",
       "      <td>7800.000000</td>\n",
       "      <td>25.0</td>\n",
       "      <td>7834.720066</td>\n",
       "      <td>2.746575e+04</td>\n",
       "      <td>1.0</td>\n",
       "      <td>105.000000</td>\n",
       "      <td>0.0</td>\n",
       "    </tr>\n",
       "    <tr>\n",
       "      <th>50%</th>\n",
       "      <td>10098227.0</td>\n",
       "      <td>6060627.0</td>\n",
       "      <td>12000.000000</td>\n",
       "      <td>6.200000e+04</td>\n",
       "      <td>50.000000</td>\n",
       "      <td>72.200000</td>\n",
       "      <td>16.780000</td>\n",
       "      <td>0.0</td>\n",
       "      <td>6.0</td>\n",
       "      <td>14700.000000</td>\n",
       "      <td>41.0</td>\n",
       "      <td>14637.479485</td>\n",
       "      <td>8.076050e+04</td>\n",
       "      <td>1.0</td>\n",
       "      <td>157.000000</td>\n",
       "      <td>0.0</td>\n",
       "    </tr>\n",
       "    <tr>\n",
       "      <th>75%</th>\n",
       "      <td>10148007.0</td>\n",
       "      <td>8727745.0</td>\n",
       "      <td>19600.000000</td>\n",
       "      <td>8.700000e+04</td>\n",
       "      <td>80.000000</td>\n",
       "      <td>89.000000</td>\n",
       "      <td>22.580000</td>\n",
       "      <td>1.0</td>\n",
       "      <td>11.0</td>\n",
       "      <td>26500.000000</td>\n",
       "      <td>58.0</td>\n",
       "      <td>26397.825272</td>\n",
       "      <td>2.082122e+05</td>\n",
       "      <td>1.0</td>\n",
       "      <td>256.000000</td>\n",
       "      <td>0.0</td>\n",
       "    </tr>\n",
       "    <tr>\n",
       "      <th>max</th>\n",
       "      <td>10197787.0</td>\n",
       "      <td>12098992.0</td>\n",
       "      <td>35000.000000</td>\n",
       "      <td>7.141778e+06</td>\n",
       "      <td>100.000000</td>\n",
       "      <td>339.600000</td>\n",
       "      <td>34.990000</td>\n",
       "      <td>8.0</td>\n",
       "      <td>24.0</td>\n",
       "      <td>522210.000000</td>\n",
       "      <td>165.0</td>\n",
       "      <td>520643.298200</td>\n",
       "      <td>8.000078e+06</td>\n",
       "      <td>1.0</td>\n",
       "      <td>456.000000</td>\n",
       "      <td>1.0</td>\n",
       "    </tr>\n",
       "  </tbody>\n",
       "</table>\n",
       "</div>"
      ],
      "text/plain": [
       "                    id       member_id      loan_amnt    annual_inc  \\\n",
       "count         199121.0        189457.0  199121.000000  1.894570e+05   \n",
       "mean   10098566.911205  5929625.920367   14071.947334  7.224330e+04   \n",
       "std       57043.972099  3339821.824345    8067.076636  5.180483e+04   \n",
       "min         10000001.0        151536.0    1000.000000  4.800000e+03   \n",
       "25%         10049582.0       2308792.0    8000.000000  4.500000e+04   \n",
       "50%         10098227.0       6060627.0   12000.000000  6.200000e+04   \n",
       "75%         10148007.0       8727745.0   19600.000000  8.700000e+04   \n",
       "max         10197787.0      12098992.0   35000.000000  7.141778e+06   \n",
       "\n",
       "       percent_bc_gt_75        bc_util            dti  inq_last_6mths  \\\n",
       "count     180419.000000  180333.000000  189457.000000        189457.0   \n",
       "mean          53.575807      66.840867      17.061084        0.803549   \n",
       "std           34.153946      26.111490       7.596941        1.032936   \n",
       "min            0.000000       0.000000       0.000000             0.0   \n",
       "25%           25.000000      49.500000      11.340000             0.0   \n",
       "50%           50.000000      72.200000      16.780000             0.0   \n",
       "75%           80.000000      89.000000      22.580000             1.0   \n",
       "max          100.000000     339.600000      34.990000             8.0   \n",
       "\n",
       "       mths_since_recent_inq  total_bc_limit  mths_since_last_major_derog  \\\n",
       "count               161472.0   181962.000000                      32749.0   \n",
       "mean                6.993634    20239.424699                    41.780054   \n",
       "std                 5.879707    18879.795379                    20.984599   \n",
       "min                      0.0        0.000000                          0.0   \n",
       "25%                      2.0     7800.000000                         25.0   \n",
       "50%                      6.0    14700.000000                         41.0   \n",
       "75%                     11.0    26500.000000                         58.0   \n",
       "max                     24.0   522210.000000                        165.0   \n",
       "\n",
       "       tot_hi_cred_lim   tot_cur_bal  application_approved_flag  \\\n",
       "count    181962.000000  1.617160e+05                   199121.0   \n",
       "mean      20238.384308  1.373215e+05                        1.0   \n",
       "std       18941.591779  1.507358e+05                        0.0   \n",
       "min           0.000000  0.000000e+00                        1.0   \n",
       "25%        7834.720066  2.746575e+04                        1.0   \n",
       "50%       14637.479485  8.076050e+04                        1.0   \n",
       "75%       26397.825272  2.082122e+05                        1.0   \n",
       "max      520643.298200  8.000078e+06                        1.0   \n",
       "\n",
       "       internal_score  bad_flag  \n",
       "count   199121.000000  189457.0  \n",
       "mean       183.967954  0.069293  \n",
       "std        104.858324  0.253952  \n",
       "min         14.000000       0.0  \n",
       "25%        105.000000       0.0  \n",
       "50%        157.000000       0.0  \n",
       "75%        256.000000       0.0  \n",
       "max        456.000000       1.0  "
      ]
     },
     "execution_count": 6,
     "metadata": {},
     "output_type": "execute_result"
    }
   ],
   "source": [
    "training_data.describe()"
   ]
  },
  {
   "cell_type": "markdown",
   "metadata": {},
   "source": [
    "pct of data is missing"
   ]
  },
  {
   "cell_type": "code",
   "execution_count": 7,
   "metadata": {},
   "outputs": [
    {
     "data": {
      "text/plain": [
       "id                              0.000000\n",
       "member_id                       4.853330\n",
       "loan_amnt                       0.000000\n",
       "term                            4.853330\n",
       "int_rate                        4.853330\n",
       "emp_length                      8.833825\n",
       "home_ownership                  4.853330\n",
       "annual_inc                      4.853330\n",
       "desc                           58.817001\n",
       "purpose                         4.853330\n",
       "percent_bc_gt_75                9.392279\n",
       "bc_util                         9.435469\n",
       "dti                             4.853330\n",
       "inq_last_6mths                  4.853330\n",
       "mths_since_recent_inq          18.907599\n",
       "revol_util                      4.917111\n",
       "total_bc_limit                  8.617373\n",
       "mths_since_last_major_derog    83.553216\n",
       "tot_hi_cred_lim                 8.617373\n",
       "tot_cur_bal                    18.785060\n",
       "application_approved_flag       0.000000\n",
       "internal_score                  0.000000\n",
       "bad_flag                        4.853330\n",
       "dtype: float64"
      ]
     },
     "execution_count": 7,
     "metadata": {},
     "output_type": "execute_result"
    }
   ],
   "source": [
    "training_data.isna().sum()/training_data.shape[0] * 100"
   ]
  },
  {
   "cell_type": "markdown",
   "metadata": {},
   "source": [
    "Some columns has missing value of 5% to 10%, which are reasonably accepted. \\\n",
    "desc has 58% rate of missing, but this is not so important at our first free vision of the model   \\\n",
    "mths_since_last_major_derog, tot_cur_bal, mths_since_recent_inq has higher missing rate, we may need look into details."
   ]
  },
  {
   "cell_type": "markdown",
   "metadata": {},
   "source": [
    "## 2. EDA, looking into features one by one"
   ]
  },
  {
   "cell_type": "markdown",
   "metadata": {},
   "source": [
    "### 2.1 for member id, let see the distribution of number of application for each person"
   ]
  },
  {
   "cell_type": "code",
   "execution_count": 8,
   "metadata": {},
   "outputs": [
    {
     "data": {
      "text/html": [
       "<div>\n",
       "<style scoped>\n",
       "    .dataframe tbody tr th:only-of-type {\n",
       "        vertical-align: middle;\n",
       "    }\n",
       "\n",
       "    .dataframe tbody tr th {\n",
       "        vertical-align: top;\n",
       "    }\n",
       "\n",
       "    .dataframe thead th {\n",
       "        text-align: right;\n",
       "    }\n",
       "</style>\n",
       "<table border=\"1\" class=\"dataframe\">\n",
       "  <thead>\n",
       "    <tr style=\"text-align: right;\">\n",
       "      <th></th>\n",
       "      <th>member_id</th>\n",
       "    </tr>\n",
       "    <tr>\n",
       "      <th>number of applications</th>\n",
       "      <th></th>\n",
       "    </tr>\n",
       "  </thead>\n",
       "  <tbody>\n",
       "    <tr>\n",
       "      <th>1</th>\n",
       "      <td>186789</td>\n",
       "    </tr>\n",
       "    <tr>\n",
       "      <th>2</th>\n",
       "      <td>1334</td>\n",
       "    </tr>\n",
       "    <tr>\n",
       "      <th>9664</th>\n",
       "      <td>0</td>\n",
       "    </tr>\n",
       "  </tbody>\n",
       "</table>\n",
       "</div>"
      ],
      "text/plain": [
       "                        member_id\n",
       "number of applications           \n",
       "1                          186789\n",
       "2                            1334\n",
       "9664                            0"
      ]
     },
     "execution_count": 8,
     "metadata": {},
     "output_type": "execute_result"
    }
   ],
   "source": [
    "# plot_df = training_data.groupby('member_id').count()[['id']]\n",
    "# ax = plot_df.plot.hist(bins=12, alpha=1)\n",
    "temp_df = training_data.groupby('member_id', dropna=False).count()[['id']].reset_index().groupby('id').count()\n",
    "temp_df.index.names = ['number of applications']\n",
    "temp_df"
   ]
  },
  {
   "cell_type": "markdown",
   "metadata": {},
   "source": [
    "large majority of people apply only one for thoses loans member id is not missing(95%)"
   ]
  },
  {
   "cell_type": "markdown",
   "metadata": {},
   "source": [
    "### 2.2 for loan_amnt, let see the distribution of number of application for each person"
   ]
  },
  {
   "cell_type": "code",
   "execution_count": 9,
   "metadata": {},
   "outputs": [
    {
     "data": {
      "text/plain": [
       "count    199121.000000\n",
       "mean      14071.947334\n",
       "std        8067.076636\n",
       "min        1000.000000\n",
       "25%        8000.000000\n",
       "50%       12000.000000\n",
       "75%       19600.000000\n",
       "max       35000.000000\n",
       "Name: loan_amnt, dtype: float64"
      ]
     },
     "execution_count": 9,
     "metadata": {},
     "output_type": "execute_result"
    }
   ],
   "source": [
    "training_data['loan_amnt'].describe()"
   ]
  },
  {
   "cell_type": "code",
   "execution_count": 10,
   "metadata": {},
   "outputs": [
    {
     "data": {
      "text/plain": [
       "<Axes: >"
      ]
     },
     "execution_count": 10,
     "metadata": {},
     "output_type": "execute_result"
    },
    {
     "data": {
      "image/png": "[encoded data removed]",
      "text/plain": [
       "<Figure size 640x480 with 1 Axes>"
      ]
     },
     "metadata": {},
     "output_type": "display_data"
    }
   ],
   "source": [
    "training_data['loan_amnt'].hist(bins=20)"
   ]
  },
  {
   "cell_type": "markdown",
   "metadata": {},
   "source": [
    "loan amnt has right tail distribution with average around 14000"
   ]
  },
  {
   "cell_type": "markdown",
   "metadata": {},
   "source": [
    "### 2.3 term"
   ]
  },
  {
   "cell_type": "code",
   "execution_count": 11,
   "metadata": {},
   "outputs": [
    {
     "data": {
      "text/plain": [
       "array([' 36 months', ' 60 months', nan], dtype=object)"
      ]
     },
     "execution_count": 11,
     "metadata": {},
     "output_type": "execute_result"
    }
   ],
   "source": [
    "training_data['term'].unique()"
   ]
  },
  {
   "cell_type": "code",
   "execution_count": 12,
   "metadata": {},
   "outputs": [
    {
     "data": {
      "text/html": [
       "<div>\n",
       "<style scoped>\n",
       "    .dataframe tbody tr th:only-of-type {\n",
       "        vertical-align: middle;\n",
       "    }\n",
       "\n",
       "    .dataframe tbody tr th {\n",
       "        vertical-align: top;\n",
       "    }\n",
       "\n",
       "    .dataframe thead th {\n",
       "        text-align: right;\n",
       "    }\n",
       "</style>\n",
       "<table border=\"1\" class=\"dataframe\">\n",
       "  <thead>\n",
       "    <tr style=\"text-align: right;\">\n",
       "      <th></th>\n",
       "      <th>id</th>\n",
       "    </tr>\n",
       "    <tr>\n",
       "      <th>term</th>\n",
       "      <th></th>\n",
       "    </tr>\n",
       "  </thead>\n",
       "  <tbody>\n",
       "    <tr>\n",
       "      <th>36 months</th>\n",
       "      <td>72.719603</td>\n",
       "    </tr>\n",
       "    <tr>\n",
       "      <th>60 months</th>\n",
       "      <td>22.427067</td>\n",
       "    </tr>\n",
       "    <tr>\n",
       "      <th>NaN</th>\n",
       "      <td>4.85333</td>\n",
       "    </tr>\n",
       "  </tbody>\n",
       "</table>\n",
       "</div>"
      ],
      "text/plain": [
       "                   id\n",
       "term                 \n",
       " 36 months  72.719603\n",
       " 60 months  22.427067\n",
       "NaN           4.85333"
      ]
     },
     "execution_count": 12,
     "metadata": {},
     "output_type": "execute_result"
    }
   ],
   "source": [
    "training_data.groupby(['term'], dropna=False).count()[['id']] / training_data.shape[0] * 100"
   ]
  },
  {
   "cell_type": "markdown",
   "metadata": {},
   "source": [
    "Break down by percentage, we could see most loans has 36 months term, this would later transformed to Indicator"
   ]
  },
  {
   "cell_type": "markdown",
   "metadata": {},
   "source": [
    "### 2.4 int_rate"
   ]
  },
  {
   "cell_type": "code",
   "execution_count": 13,
   "metadata": {},
   "outputs": [],
   "source": [
    "# data cleaning\n",
    "training_data['int_rate'] = training_data['int_rate'].apply(lambda x:float(x[:-1]) if type(x) == str else np.NaN)"
   ]
  },
  {
   "cell_type": "code",
   "execution_count": 14,
   "metadata": {},
   "outputs": [
    {
     "data": {
      "text/plain": [
       "count    189457.000000\n",
       "mean         14.282718\n",
       "std           4.438100\n",
       "min           6.000000\n",
       "25%          11.140000\n",
       "50%          14.090000\n",
       "75%          17.270000\n",
       "max          26.060000\n",
       "Name: int_rate, dtype: float64"
      ]
     },
     "execution_count": 14,
     "metadata": {},
     "output_type": "execute_result"
    }
   ],
   "source": [
    "training_data['int_rate'].describe()"
   ]
  },
  {
   "cell_type": "code",
   "execution_count": 15,
   "metadata": {},
   "outputs": [
    {
     "data": {
      "text/plain": [
       "<Axes: >"
      ]
     },
     "execution_count": 15,
     "metadata": {},
     "output_type": "execute_result"
    },
    {
     "data": {
      "image/png": "[encoded data removed]",
      "text/plain": [
       "<Figure size 640x480 with 1 Axes>"
      ]
     },
     "metadata": {},
     "output_type": "display_data"
    }
   ],
   "source": [
    "training_data['int_rate'].hist()"
   ]
  },
  {
   "cell_type": "markdown",
   "metadata": {},
   "source": [
    "This would be the distribution of int rate for 95% of loans."
   ]
  },
  {
   "cell_type": "markdown",
   "metadata": {},
   "source": [
    "For simplicity, we will just fill NA using mean value for now for Neural Network model."
   ]
  },
  {
   "cell_type": "markdown",
   "metadata": {},
   "source": [
    "### 2.5 emp_length"
   ]
  },
  {
   "cell_type": "code",
   "execution_count": 16,
   "metadata": {},
   "outputs": [
    {
     "data": {
      "text/plain": [
       "array(['3 years', '10+ years', '4 years', '5 years', '2 years', '7 years',\n",
       "       '6 years', '1 year', '9 years', '< 1 year', '8 years', nan],\n",
       "      dtype=object)"
      ]
     },
     "execution_count": 16,
     "metadata": {},
     "output_type": "execute_result"
    }
   ],
   "source": [
    "training_data['emp_length'].unique()"
   ]
  },
  {
   "cell_type": "code",
   "execution_count": 17,
   "metadata": {},
   "outputs": [],
   "source": [
    "emp_length_map = {\n",
    "    '< 1 year':0,\n",
    "    '1 year':1,\n",
    "    '2 years':2,\n",
    "    '3 years':3,\n",
    "    '4 years':4,\n",
    "    '5 years':5,\n",
    "    '6 years':6,\n",
    "    '7 years':7,\n",
    "    '8 years':8,\n",
    "    '9 years':9,\n",
    "    '10+ years':10,\n",
    "}"
   ]
  },
  {
   "cell_type": "code",
   "execution_count": 18,
   "metadata": {},
   "outputs": [],
   "source": [
    "# make data transformation to interger for each category\n",
    "# data cleaning\n",
    "training_data['emp_length'] = training_data['emp_length'].apply(lambda x: emp_length_map[x] if type(x)==str else np.NaN)"
   ]
  },
  {
   "cell_type": "code",
   "execution_count": 19,
   "metadata": {},
   "outputs": [
    {
     "data": {
      "text/plain": [
       "emp_length\n",
       "0.0     13312\n",
       "1.0     11504\n",
       "2.0     16257\n",
       "3.0     14058\n",
       "4.0     10905\n",
       "5.0     14361\n",
       "6.0     11981\n",
       "7.0     11287\n",
       "8.0      9040\n",
       "9.0      7178\n",
       "10.0    61648\n",
       "NaN     17590\n",
       "Name: id, dtype: Int64"
      ]
     },
     "execution_count": 19,
     "metadata": {},
     "output_type": "execute_result"
    }
   ],
   "source": [
    "temp_dist = training_data.groupby(['emp_length'], dropna=False).count()['id']\n",
    "temp_dist"
   ]
  },
  {
   "cell_type": "code",
   "execution_count": 20,
   "metadata": {},
   "outputs": [
    {
     "data": {
      "text/plain": [
       "<BarContainer object of 12 artists>"
      ]
     },
     "execution_count": 20,
     "metadata": {},
     "output_type": "execute_result"
    },
    {
     "data": {
      "image/png": "[encoded data removed]",
      "text/plain": [
       "<Figure size 800x600 with 1 Axes>"
      ]
     },
     "metadata": {},
     "output_type": "display_data"
    }
   ],
   "source": [
    "plt.figure(figsize=(8, 6))\n",
    "plt.bar(temp_dist.index, temp_dist.values, color='skyblue')"
   ]
  },
  {
   "cell_type": "markdown",
   "metadata": {},
   "source": [
    "### 2.6 home_ownership"
   ]
  },
  {
   "cell_type": "code",
   "execution_count": 21,
   "metadata": {},
   "outputs": [
    {
     "data": {
      "text/plain": [
       "array(['RENT', 'OWN', 'MORTGAGE', 'NONE', 'OTHER', nan], dtype=object)"
      ]
     },
     "execution_count": 21,
     "metadata": {},
     "output_type": "execute_result"
    }
   ],
   "source": [
    "training_data['home_ownership'].unique()"
   ]
  },
  {
   "cell_type": "code",
   "execution_count": 22,
   "metadata": {},
   "outputs": [
    {
     "data": {
      "text/plain": [
       "MORTGAGE    97647\n",
       "NONE           42\n",
       "OTHER          46\n",
       "OWN         15573\n",
       "RENT        76149\n",
       "Missing      9664\n",
       "Name: id, dtype: Int64"
      ]
     },
     "execution_count": 22,
     "metadata": {},
     "output_type": "execute_result"
    }
   ],
   "source": [
    "temp_dist = training_data.groupby(['home_ownership'], dropna=False).count()['id']\n",
    "temp_dist.index = list(temp_dist.index[:-1]) + ['Missing']\n",
    "temp_dist"
   ]
  },
  {
   "cell_type": "code",
   "execution_count": 23,
   "metadata": {},
   "outputs": [
    {
     "data": {
      "text/plain": [
       "<BarContainer object of 6 artists>"
      ]
     },
     "execution_count": 23,
     "metadata": {},
     "output_type": "execute_result"
    },
    {
     "data": {
      "image/png": "[encoded data removed]",
      "text/plain": [
       "<Figure size 600x300 with 1 Axes>"
      ]
     },
     "metadata": {},
     "output_type": "display_data"
    }
   ],
   "source": [
    "plt.figure(figsize=(6, 3))\n",
    "plt.bar(temp_dist.index, temp_dist.values, color='skyblue')"
   ]
  },
  {
   "cell_type": "markdown",
   "metadata": {},
   "source": [
    "Mortgage and rent are most common type."
   ]
  },
  {
   "cell_type": "markdown",
   "metadata": {},
   "source": [
    "### 2.7 annual_inc"
   ]
  },
  {
   "cell_type": "code",
   "execution_count": 24,
   "metadata": {},
   "outputs": [
    {
     "data": {
      "text/plain": [
       "count    1.894570e+05\n",
       "mean     7.224330e+04\n",
       "std      5.180483e+04\n",
       "min      4.800000e+03\n",
       "25%      4.500000e+04\n",
       "50%      6.200000e+04\n",
       "75%      8.700000e+04\n",
       "max      7.141778e+06\n",
       "Name: annual_inc, dtype: float64"
      ]
     },
     "execution_count": 24,
     "metadata": {},
     "output_type": "execute_result"
    }
   ],
   "source": [
    "training_data['annual_inc'].describe()"
   ]
  },
  {
   "cell_type": "code",
   "execution_count": 25,
   "metadata": {},
   "outputs": [
    {
     "data": {
      "text/plain": [
       "<Axes: >"
      ]
     },
     "execution_count": 25,
     "metadata": {},
     "output_type": "execute_result"
    },
    {
     "data": {
      "image/png": "[encoded data removed]",
      "text/plain": [
       "<Figure size 640x480 with 1 Axes>"
      ]
     },
     "metadata": {},
     "output_type": "display_data"
    }
   ],
   "source": [
    "np.log10(training_data['annual_inc']).hist(bins=20)"
   ]
  },
  {
   "cell_type": "markdown",
   "metadata": {},
   "source": [
    "After log transforming, the distribution is approximate normal, we will use log annual_inc as feature in our model"
   ]
  },
  {
   "cell_type": "markdown",
   "metadata": {},
   "source": [
    "### 2.8 desc"
   ]
  },
  {
   "cell_type": "code",
   "execution_count": 26,
   "metadata": {},
   "outputs": [
    {
     "data": {
      "text/plain": [
       "'  Borrower added on 12/31/13 > My goal is to purchase a home. I am consolidating my debt to lower interest rate to pay off debt faster. My goal is targeted for February 2015.<br>'"
      ]
     },
     "execution_count": 26,
     "metadata": {},
     "output_type": "execute_result"
    }
   ],
   "source": [
    "training_data['desc'].iloc[8]"
   ]
  },
  {
   "cell_type": "code",
   "execution_count": 27,
   "metadata": {},
   "outputs": [
    {
     "data": {
      "text/plain": [
       "'  Borrower added on 10/21/13 > Three years ago there was a forest fire in the mountains above our house, and then the community flooded. Got in debt fixing our house and landscape which was an unexpected expense. Want to get out of debt and start saving money again. Thank you.<br>'"
      ]
     },
     "execution_count": 27,
     "metadata": {},
     "output_type": "execute_result"
    }
   ],
   "source": [
    "training_data['desc'].iloc[30322]"
   ]
  },
  {
   "cell_type": "markdown",
   "metadata": {},
   "source": [
    "The desc provides the reason for taking loans, we will skip this in model for now. But we could review if particular loan is of interest."
   ]
  },
  {
   "cell_type": "markdown",
   "metadata": {},
   "source": [
    "### 2.9 purpose"
   ]
  },
  {
   "cell_type": "code",
   "execution_count": 28,
   "metadata": {},
   "outputs": [
    {
     "data": {
      "text/plain": [
       "array(['debt_consolidation', 'home_improvement', 'credit_card', 'other',\n",
       "       'major_purchase', 'small_business', 'house', 'moving', 'medical',\n",
       "       'car', 'vacation', 'renewable_energy', 'wedding', nan],\n",
       "      dtype=object)"
      ]
     },
     "execution_count": 28,
     "metadata": {},
     "output_type": "execute_result"
    }
   ],
   "source": [
    "training_data['purpose'].unique()"
   ]
  },
  {
   "cell_type": "code",
   "execution_count": 29,
   "metadata": {},
   "outputs": [
    {
     "data": {
      "text/plain": [
       "car                     1962\n",
       "credit_card            43431\n",
       "debt_consolidation    112259\n",
       "home_improvement       10362\n",
       "house                   1099\n",
       "major_purchase          3681\n",
       "medical                 1524\n",
       "moving                  1050\n",
       "other                   8947\n",
       "renewable_energy         122\n",
       "small_business          2758\n",
       "vacation                 915\n",
       "wedding                 1347\n",
       "Missing                 9664\n",
       "Name: id, dtype: Int64"
      ]
     },
     "execution_count": 29,
     "metadata": {},
     "output_type": "execute_result"
    }
   ],
   "source": [
    "temp_dist = training_data.groupby(['purpose'], dropna=False).count()['id']\n",
    "temp_dist.index = list(temp_dist.index[:-1]) + ['Missing']\n",
    "temp_dist"
   ]
  },
  {
   "cell_type": "code",
   "execution_count": 30,
   "metadata": {},
   "outputs": [
    {
     "data": {
      "text/plain": [
       "<BarContainer object of 14 artists>"
      ]
     },
     "execution_count": 30,
     "metadata": {},
     "output_type": "execute_result"
    },
    {
     "data": {
      "image/png": "[encoded data removed]",
      "text/plain": [
       "<Figure size 1000x800 with 1 Axes>"
      ]
     },
     "metadata": {},
     "output_type": "display_data"
    }
   ],
   "source": [
    "plt.figure(figsize=(10, 8))\n",
    "plt.barh(temp_dist.index, temp_dist.values, color='skyblue')"
   ]
  },
  {
   "cell_type": "markdown",
   "metadata": {},
   "source": [
    "Most loans are used for debt consolidation and credit card"
   ]
  },
  {
   "cell_type": "markdown",
   "metadata": {},
   "source": [
    "### 2.10 percent_bc_gt_75"
   ]
  },
  {
   "cell_type": "code",
   "execution_count": 31,
   "metadata": {},
   "outputs": [
    {
     "data": {
      "text/plain": [
       "<Axes: >"
      ]
     },
     "execution_count": 31,
     "metadata": {},
     "output_type": "execute_result"
    },
    {
     "data": {
      "image/png": "[encoded data removed]",
      "text/plain": [
       "<Figure size 640x480 with 1 Axes>"
      ]
     },
     "metadata": {},
     "output_type": "display_data"
    }
   ],
   "source": [
    "training_data['percent_bc_gt_75'].hist(bins=20)"
   ]
  },
  {
   "cell_type": "markdown",
   "metadata": {},
   "source": [
    "data are a bit polarized with 0% and 100% among highest"
   ]
  },
  {
   "cell_type": "markdown",
   "metadata": {},
   "source": [
    "### 2.11 bc_util"
   ]
  },
  {
   "cell_type": "code",
   "execution_count": 32,
   "metadata": {},
   "outputs": [
    {
     "data": {
      "text/plain": [
       "count    180333.000000\n",
       "mean         66.840867\n",
       "std          26.111490\n",
       "min           0.000000\n",
       "25%          49.500000\n",
       "50%          72.200000\n",
       "75%          89.000000\n",
       "max         339.600000\n",
       "Name: bc_util, dtype: float64"
      ]
     },
     "execution_count": 32,
     "metadata": {},
     "output_type": "execute_result"
    }
   ],
   "source": [
    "training_data['bc_util'].describe()"
   ]
  },
  {
   "cell_type": "code",
   "execution_count": 33,
   "metadata": {},
   "outputs": [
    {
     "data": {
      "text/plain": [
       "<Axes: >"
      ]
     },
     "execution_count": 33,
     "metadata": {},
     "output_type": "execute_result"
    },
    {
     "data": {
      "image/png": "[encoded data removed]",
      "text/plain": [
       "<Figure size 640x480 with 1 Axes>"
      ]
     },
     "metadata": {},
     "output_type": "display_data"
    }
   ],
   "source": [
    "training_data['bc_util'].hist(bins=20)"
   ]
  },
  {
   "cell_type": "markdown",
   "metadata": {},
   "source": [
    "Some of them are even higher than 100%, need to double check(possible data error) and look into those cases"
   ]
  },
  {
   "cell_type": "markdown",
   "metadata": {},
   "source": [
    "### 2.12 dti"
   ]
  },
  {
   "cell_type": "code",
   "execution_count": 34,
   "metadata": {},
   "outputs": [
    {
     "data": {
      "text/plain": [
       "count    189457.000000\n",
       "mean         17.061084\n",
       "std           7.596941\n",
       "min           0.000000\n",
       "25%          11.340000\n",
       "50%          16.780000\n",
       "75%          22.580000\n",
       "max          34.990000\n",
       "Name: dti, dtype: float64"
      ]
     },
     "execution_count": 34,
     "metadata": {},
     "output_type": "execute_result"
    }
   ],
   "source": [
    "training_data['dti'].describe()"
   ]
  },
  {
   "cell_type": "code",
   "execution_count": 35,
   "metadata": {},
   "outputs": [
    {
     "data": {
      "text/plain": [
       "<Axes: >"
      ]
     },
     "execution_count": 35,
     "metadata": {},
     "output_type": "execute_result"
    },
    {
     "data": {
      "image/png": "[encoded data removed]",
      "text/plain": [
       "<Figure size 640x480 with 1 Axes>"
      ]
     },
     "metadata": {},
     "output_type": "display_data"
    }
   ],
   "source": [
    "training_data['dti'].hist(bins=20)"
   ]
  },
  {
   "cell_type": "markdown",
   "metadata": {},
   "source": [
    "Maximum is around 35%"
   ]
  },
  {
   "cell_type": "markdown",
   "metadata": {},
   "source": [
    "### 2.13 inq_last_6mths"
   ]
  },
  {
   "cell_type": "code",
   "execution_count": 36,
   "metadata": {},
   "outputs": [
    {
     "data": {
      "text/plain": [
       "count    189457.0\n",
       "mean     0.803549\n",
       "std      1.032936\n",
       "min           0.0\n",
       "25%           0.0\n",
       "50%           0.0\n",
       "75%           1.0\n",
       "max           8.0\n",
       "Name: inq_last_6mths, dtype: Float64"
      ]
     },
     "execution_count": 36,
     "metadata": {},
     "output_type": "execute_result"
    }
   ],
   "source": [
    "training_data['inq_last_6mths'].describe()"
   ]
  },
  {
   "cell_type": "code",
   "execution_count": 37,
   "metadata": {},
   "outputs": [
    {
     "data": {
      "text/plain": [
       "0          96518\n",
       "1          53454\n",
       "2          24708\n",
       "3          11277\n",
       "4           2359\n",
       "5            772\n",
       "6            349\n",
       "7             13\n",
       "8              7\n",
       "Missing     9664\n",
       "Name: id, dtype: Int64"
      ]
     },
     "execution_count": 37,
     "metadata": {},
     "output_type": "execute_result"
    }
   ],
   "source": [
    "temp_dist = training_data.groupby(['inq_last_6mths'], dropna=False).count()['id']\n",
    "temp_dist.index = [str(i) for i in range(9)] + ['Missing']\n",
    "temp_dist"
   ]
  },
  {
   "cell_type": "code",
   "execution_count": 38,
   "metadata": {},
   "outputs": [
    {
     "data": {
      "text/plain": [
       "<BarContainer object of 10 artists>"
      ]
     },
     "execution_count": 38,
     "metadata": {},
     "output_type": "execute_result"
    },
    {
     "data": {
      "image/png": "[encoded data removed]",
      "text/plain": [
       "<Figure size 1000x800 with 1 Axes>"
      ]
     },
     "metadata": {},
     "output_type": "display_data"
    }
   ],
   "source": [
    "plt.figure(figsize=(10, 8))\n",
    "plt.barh(temp_dist.index, temp_dist.values, color='skyblue')"
   ]
  },
  {
   "cell_type": "markdown",
   "metadata": {},
   "source": [
    "The number of inquiries are generally stacked over lower end."
   ]
  },
  {
   "cell_type": "markdown",
   "metadata": {},
   "source": [
    "### 2.14 mths_since_recent_inq"
   ]
  },
  {
   "cell_type": "code",
   "execution_count": 39,
   "metadata": {},
   "outputs": [
    {
     "data": {
      "text/plain": [
       "count    161472.0\n",
       "mean     6.993634\n",
       "std      5.879707\n",
       "min           0.0\n",
       "25%           2.0\n",
       "50%           6.0\n",
       "75%          11.0\n",
       "max          24.0\n",
       "Name: mths_since_recent_inq, dtype: Float64"
      ]
     },
     "execution_count": 39,
     "metadata": {},
     "output_type": "execute_result"
    }
   ],
   "source": [
    "training_data['mths_since_recent_inq'].describe()"
   ]
  },
  {
   "cell_type": "code",
   "execution_count": 40,
   "metadata": {},
   "outputs": [
    {
     "data": {
      "text/plain": [
       "0          14185\n",
       "1          17440\n",
       "2          14002\n",
       "3          12374\n",
       "4          11316\n",
       "5          10409\n",
       "6           9386\n",
       "7           9289\n",
       "8           8298\n",
       "9           7617\n",
       "10          6527\n",
       "11          5901\n",
       "12          5380\n",
       "13          4641\n",
       "14          4135\n",
       "15          3401\n",
       "16          2914\n",
       "17          2616\n",
       "18          2316\n",
       "19          2102\n",
       "20          1842\n",
       "21          1684\n",
       "22          1520\n",
       "23          1468\n",
       "24           709\n",
       "Missing    37649\n",
       "Name: id, dtype: Int64"
      ]
     },
     "execution_count": 40,
     "metadata": {},
     "output_type": "execute_result"
    }
   ],
   "source": [
    "temp_dist = training_data.groupby(['mths_since_recent_inq'], dropna=False).count()['id']\n",
    "temp_dist.index = [str(i) for i in range(25)] + ['Missing']\n",
    "temp_dist"
   ]
  },
  {
   "cell_type": "code",
   "execution_count": 41,
   "metadata": {},
   "outputs": [
    {
     "data": {
      "text/plain": [
       "<BarContainer object of 26 artists>"
      ]
     },
     "execution_count": 41,
     "metadata": {},
     "output_type": "execute_result"
    },
    {
     "data": {
      "image/png": "[encoded data removed]",
      "text/plain": [
       "<Figure size 1000x800 with 1 Axes>"
      ]
     },
     "metadata": {},
     "output_type": "display_data"
    }
   ],
   "source": [
    "plt.figure(figsize=(10, 8))\n",
    "plt.barh(temp_dist.index, temp_dist.values, color='skyblue')"
   ]
  },
  {
   "cell_type": "markdown",
   "metadata": {},
   "source": [
    "For non-missing data, we could see they would inq more clost to now."
   ]
  },
  {
   "cell_type": "markdown",
   "metadata": {},
   "source": [
    "### 2.15 revol_util"
   ]
  },
  {
   "cell_type": "code",
   "execution_count": 42,
   "metadata": {},
   "outputs": [
    {
     "data": {
      "text/plain": [
       "0       72%\n",
       "1    61.20%\n",
       "2       24%\n",
       "3    54.60%\n",
       "4    68.80%\n",
       "Name: revol_util, dtype: object"
      ]
     },
     "execution_count": 42,
     "metadata": {},
     "output_type": "execute_result"
    }
   ],
   "source": [
    "training_data['revol_util'].head()"
   ]
  },
  {
   "cell_type": "code",
   "execution_count": 43,
   "metadata": {},
   "outputs": [],
   "source": [
    "# data cleaning\n",
    "training_data['revol_util'] = training_data['revol_util'].apply(lambda x:float(x[:-1]) if type(x) == str else np.NaN)"
   ]
  },
  {
   "cell_type": "code",
   "execution_count": 44,
   "metadata": {},
   "outputs": [
    {
     "data": {
      "text/plain": [
       "count    189330.000000\n",
       "mean         58.390322\n",
       "std          23.007160\n",
       "min           0.000000\n",
       "25%          42.500000\n",
       "50%          60.500000\n",
       "75%          76.600000\n",
       "max         140.400000\n",
       "Name: revol_util, dtype: float64"
      ]
     },
     "execution_count": 44,
     "metadata": {},
     "output_type": "execute_result"
    }
   ],
   "source": [
    "training_data['revol_util'].describe()"
   ]
  },
  {
   "cell_type": "code",
   "execution_count": 45,
   "metadata": {},
   "outputs": [
    {
     "data": {
      "text/plain": [
       "<Axes: >"
      ]
     },
     "execution_count": 45,
     "metadata": {},
     "output_type": "execute_result"
    },
    {
     "data": {
      "image/png": "[encoded data removed]",
      "text/plain": [
       "<Figure size 640x480 with 1 Axes>"
      ]
     },
     "metadata": {},
     "output_type": "display_data"
    }
   ],
   "source": [
    "training_data['revol_util'].hist(bins = 20)"
   ]
  },
  {
   "cell_type": "markdown",
   "metadata": {},
   "source": [
    "### 2.16 total_bc_limit"
   ]
  },
  {
   "cell_type": "code",
   "execution_count": 46,
   "metadata": {},
   "outputs": [
    {
     "data": {
      "text/plain": [
       "count    181962.000000\n",
       "mean      20239.424699\n",
       "std       18879.795379\n",
       "min           0.000000\n",
       "25%        7800.000000\n",
       "50%       14700.000000\n",
       "75%       26500.000000\n",
       "max      522210.000000\n",
       "Name: total_bc_limit, dtype: float64"
      ]
     },
     "execution_count": 46,
     "metadata": {},
     "output_type": "execute_result"
    }
   ],
   "source": [
    "training_data['total_bc_limit'].describe()"
   ]
  },
  {
   "cell_type": "markdown",
   "metadata": {},
   "source": [
    "plot log distribution"
   ]
  },
  {
   "cell_type": "code",
   "execution_count": 47,
   "metadata": {},
   "outputs": [
    {
     "data": {
      "text/plain": [
       "array([[<Axes: title={'center': 'total_bc_limit'}>]], dtype=object)"
      ]
     },
     "execution_count": 47,
     "metadata": {},
     "output_type": "execute_result"
    },
    {
     "data": {
      "image/png": "[encoded data removed]",
      "text/plain": [
       "<Figure size 640x480 with 1 Axes>"
      ]
     },
     "metadata": {},
     "output_type": "display_data"
    }
   ],
   "source": [
    "pd.DataFrame(np.log10(training_data['total_bc_limit'] + 1)).hist(bins = 20)"
   ]
  },
  {
   "cell_type": "markdown",
   "metadata": {},
   "source": [
    "### 2.17 mths_since_last_major_derog"
   ]
  },
  {
   "cell_type": "code",
   "execution_count": 48,
   "metadata": {},
   "outputs": [
    {
     "data": {
      "text/plain": [
       "count      32749.0\n",
       "mean     41.780054\n",
       "std      20.984599\n",
       "min            0.0\n",
       "25%           25.0\n",
       "50%           41.0\n",
       "75%           58.0\n",
       "max          165.0\n",
       "Name: mths_since_last_major_derog, dtype: Float64"
      ]
     },
     "execution_count": 48,
     "metadata": {},
     "output_type": "execute_result"
    }
   ],
   "source": [
    "training_data['mths_since_last_major_derog'].describe()"
   ]
  },
  {
   "cell_type": "code",
   "execution_count": 49,
   "metadata": {},
   "outputs": [
    {
     "data": {
      "text/plain": [
       "<Axes: >"
      ]
     },
     "execution_count": 49,
     "metadata": {},
     "output_type": "execute_result"
    },
    {
     "data": {
      "image/png": "[encoded data removed]",
      "text/plain": [
       "<Figure size 640x480 with 1 Axes>"
      ]
     },
     "metadata": {},
     "output_type": "display_data"
    }
   ],
   "source": [
    "training_data['mths_since_last_major_derog'].hist()"
   ]
  },
  {
   "cell_type": "markdown",
   "metadata": {},
   "source": [
    "Most data within in 0 to 80 month. However, we find previously that 83% data is missing for this feature"
   ]
  },
  {
   "cell_type": "markdown",
   "metadata": {},
   "source": [
    "### 2.18 tot_hi_cred_lim"
   ]
  },
  {
   "cell_type": "code",
   "execution_count": 50,
   "metadata": {},
   "outputs": [
    {
     "data": {
      "text/plain": [
       "count    181962.000000\n",
       "mean      20238.384308\n",
       "std       18941.591779\n",
       "min           0.000000\n",
       "25%        7834.720066\n",
       "50%       14637.479485\n",
       "75%       26397.825272\n",
       "max      520643.298200\n",
       "Name: tot_hi_cred_lim, dtype: float64"
      ]
     },
     "execution_count": 50,
     "metadata": {},
     "output_type": "execute_result"
    }
   ],
   "source": [
    "training_data['tot_hi_cred_lim'].describe()"
   ]
  },
  {
   "cell_type": "code",
   "execution_count": 51,
   "metadata": {},
   "outputs": [
    {
     "data": {
      "text/plain": [
       "<Axes: >"
      ]
     },
     "execution_count": 51,
     "metadata": {},
     "output_type": "execute_result"
    },
    {
     "data": {
      "image/png": "[encoded data removed]",
      "text/plain": [
       "<Figure size 640x480 with 1 Axes>"
      ]
     },
     "metadata": {},
     "output_type": "display_data"
    }
   ],
   "source": [
    "training_data['tot_hi_cred_lim'].hist(bins = 20)"
   ]
  },
  {
   "cell_type": "markdown",
   "metadata": {},
   "source": [
    "log distribution"
   ]
  },
  {
   "cell_type": "code",
   "execution_count": 52,
   "metadata": {},
   "outputs": [
    {
     "data": {
      "text/plain": [
       "array([[<Axes: title={'center': 'tot_hi_cred_lim'}>]], dtype=object)"
      ]
     },
     "execution_count": 52,
     "metadata": {},
     "output_type": "execute_result"
    },
    {
     "data": {
      "image/png": "[encoded data removed]",
      "text/plain": [
       "<Figure size 640x480 with 1 Axes>"
      ]
     },
     "metadata": {},
     "output_type": "display_data"
    }
   ],
   "source": [
    "pd.DataFrame(np.log10(training_data['tot_hi_cred_lim'] + 1)).hist(bins = 20)"
   ]
  },
  {
   "cell_type": "markdown",
   "metadata": {},
   "source": [
    "we see some data in very left side (around 0)"
   ]
  },
  {
   "cell_type": "markdown",
   "metadata": {},
   "source": [
    "### 2.19 tot_cur_bal"
   ]
  },
  {
   "cell_type": "code",
   "execution_count": 54,
   "metadata": {},
   "outputs": [
    {
     "data": {
      "text/plain": [
       "count    1.617160e+05\n",
       "mean     1.373215e+05\n",
       "std      1.507358e+05\n",
       "min      0.000000e+00\n",
       "25%      2.746575e+04\n",
       "50%      8.076050e+04\n",
       "75%      2.082122e+05\n",
       "max      8.000078e+06\n",
       "Name: tot_cur_bal, dtype: float64"
      ]
     },
     "execution_count": 54,
     "metadata": {},
     "output_type": "execute_result"
    }
   ],
   "source": [
    "training_data['tot_cur_bal'].describe()"
   ]
  },
  {
   "cell_type": "markdown",
   "metadata": {},
   "source": [
    "show log distribution"
   ]
  },
  {
   "cell_type": "code",
   "execution_count": 55,
   "metadata": {},
   "outputs": [
    {
     "data": {
      "text/plain": [
       "array([[<Axes: title={'center': 'tot_cur_bal'}>]], dtype=object)"
      ]
     },
     "execution_count": 55,
     "metadata": {},
     "output_type": "execute_result"
    },
    {
     "data": {
      "image/png": "[encoded data removed]",
      "text/plain": [
       "<Figure size 640x480 with 1 Axes>"
      ]
     },
     "metadata": {},
     "output_type": "display_data"
    }
   ],
   "source": [
    "pd.DataFrame(np.log10(training_data['tot_cur_bal'] + 1)).hist(bins = 20)"
   ]
  },
  {
   "cell_type": "markdown",
   "metadata": {},
   "source": [
    "### 2.20 application_approved_flag"
   ]
  },
  {
   "cell_type": "code",
   "execution_count": 56,
   "metadata": {},
   "outputs": [
    {
     "data": {
      "text/plain": [
       "count    199121.0\n",
       "mean          1.0\n",
       "std           0.0\n",
       "min           1.0\n",
       "25%           1.0\n",
       "50%           1.0\n",
       "75%           1.0\n",
       "max           1.0\n",
       "Name: application_approved_flag, dtype: float64"
      ]
     },
     "execution_count": 56,
     "metadata": {},
     "output_type": "execute_result"
    }
   ],
   "source": [
    "training_data['application_approved_flag'].describe()"
   ]
  },
  {
   "cell_type": "code",
   "execution_count": 57,
   "metadata": {},
   "outputs": [
    {
     "data": {
      "text/plain": [
       "array([1])"
      ]
     },
     "execution_count": 57,
     "metadata": {},
     "output_type": "execute_result"
    }
   ],
   "source": [
    "training_data['application_approved_flag'].unique()"
   ]
  },
  {
   "cell_type": "markdown",
   "metadata": {},
   "source": [
    "this dataset all comes from approved loan, this will not be a feature used for model"
   ]
  },
  {
   "cell_type": "markdown",
   "metadata": {},
   "source": [
    "### 2.21 internal_score"
   ]
  },
  {
   "cell_type": "code",
   "execution_count": 58,
   "metadata": {},
   "outputs": [
    {
     "data": {
      "text/plain": [
       "count    199121.000000\n",
       "mean        183.967954\n",
       "std         104.858324\n",
       "min          14.000000\n",
       "25%         105.000000\n",
       "50%         157.000000\n",
       "75%         256.000000\n",
       "max         456.000000\n",
       "Name: internal_score, dtype: float64"
      ]
     },
     "execution_count": 58,
     "metadata": {},
     "output_type": "execute_result"
    }
   ],
   "source": [
    "training_data['internal_score'].describe()"
   ]
  },
  {
   "cell_type": "code",
   "execution_count": 59,
   "metadata": {},
   "outputs": [
    {
     "data": {
      "text/plain": [
       "<Axes: >"
      ]
     },
     "execution_count": 59,
     "metadata": {},
     "output_type": "execute_result"
    },
    {
     "data": {
      "image/png": "[encoded data removed]",
      "text/plain": [
       "<Figure size 640x480 with 1 Axes>"
      ]
     },
     "metadata": {},
     "output_type": "display_data"
    }
   ],
   "source": [
    "training_data['internal_score'].hist(bins=10)"
   ]
  },
  {
   "cell_type": "markdown",
   "metadata": {},
   "source": [
    "### 2.22 bad_flag"
   ]
  },
  {
   "cell_type": "code",
   "execution_count": 60,
   "metadata": {},
   "outputs": [
    {
     "data": {
      "text/plain": [
       "count    189457.0\n",
       "mean     0.069293\n",
       "std      0.253952\n",
       "min           0.0\n",
       "25%           0.0\n",
       "50%           0.0\n",
       "75%           0.0\n",
       "max           1.0\n",
       "Name: bad_flag, dtype: Float64"
      ]
     },
     "execution_count": 60,
     "metadata": {},
     "output_type": "execute_result"
    }
   ],
   "source": [
    "training_data['bad_flag'].describe()"
   ]
  },
  {
   "cell_type": "code",
   "execution_count": 61,
   "metadata": {},
   "outputs": [
    {
     "data": {
      "text/plain": [
       "id                              0.000000\n",
       "member_id                       4.853330\n",
       "loan_amnt                       0.000000\n",
       "term                            4.853330\n",
       "int_rate                        4.853330\n",
       "emp_length                      8.833825\n",
       "home_ownership                  4.853330\n",
       "annual_inc                      4.853330\n",
       "desc                           58.817001\n",
       "purpose                         4.853330\n",
       "percent_bc_gt_75                9.392279\n",
       "bc_util                         9.435469\n",
       "dti                             4.853330\n",
       "inq_last_6mths                  4.853330\n",
       "mths_since_recent_inq          18.907599\n",
       "revol_util                      4.917111\n",
       "total_bc_limit                  8.617373\n",
       "mths_since_last_major_derog    83.553216\n",
       "tot_hi_cred_lim                 8.617373\n",
       "tot_cur_bal                    18.785060\n",
       "application_approved_flag       0.000000\n",
       "internal_score                  0.000000\n",
       "bad_flag                        4.853330\n",
       "dtype: float64"
      ]
     },
     "execution_count": 61,
     "metadata": {},
     "output_type": "execute_result"
    }
   ],
   "source": [
    "training_data.isna().sum()/training_data.shape[0] * 100"
   ]
  },
  {
   "cell_type": "code",
   "execution_count": 62,
   "metadata": {},
   "outputs": [
    {
     "data": {
      "text/plain": [
       "bad_flag\n",
       "0       176329\n",
       "1        13128\n",
       "<NA>      9664\n",
       "Name: id, dtype: Int64"
      ]
     },
     "execution_count": 62,
     "metadata": {},
     "output_type": "execute_result"
    }
   ],
   "source": [
    "training_data.groupby(['bad_flag'], dropna=False).count()['id']"
   ]
  },
  {
   "cell_type": "markdown",
   "metadata": {},
   "source": [
    "we have some missing data for our target value, this data points should generally be dropped for building model"
   ]
  },
  {
   "cell_type": "markdown",
   "metadata": {},
   "source": [
    "## 3. Summarize the preporcess/data cleaning code"
   ]
  },
  {
   "cell_type": "code",
   "execution_count": 63,
   "metadata": {},
   "outputs": [],
   "source": [
    "training_data = pd.read_csv(\"training_loan_data.csv\", \n",
    "                            skiprows=1,\n",
    "                            dtype={'id': 'Int64', 'member_id': 'Int64', \n",
    "                                   'inq_last_6mths': 'Int64', 'mths_since_last_major_derog': 'Int64',\n",
    "                                   'mths_since_recent_inq': 'Int64',\n",
    "                                   'bad_flag':'Int64'\n",
    "                                  })\n",
    "# data cleaning\n",
    "training_data['int_rate'] = training_data['int_rate'].apply(lambda x:float(x[:-1]) if type(x) == str else np.NaN)\n",
    "training_data['revol_util'] = training_data['revol_util'].apply(lambda x:float(x[:-1]) if type(x) == str else np.NaN)\n",
    "training_data['emp_length'] = training_data['emp_length'].apply(lambda x: emp_length_map[x] if type(x)==str else np.NaN)\n",
    "\n",
    "# drop if targe value bad_flag is missing\n",
    "# training_data = training_data.dropna(subset=['bad_flag'])"
   ]
  },
  {
   "cell_type": "code",
   "execution_count": 64,
   "metadata": {},
   "outputs": [],
   "source": [
    "numerical_features = ['loan_amnt', 'int_rate', 'emp_length', 'annual_inc', 'percent_bc_gt_75',\n",
    "                      'bc_util', 'dti', 'inq_last_6mths', 'mths_since_recent_inq',\n",
    "                      'revol_util', 'total_bc_limit', 'mths_since_last_major_derog',\n",
    "                      'tot_hi_cred_lim', 'tot_cur_bal', 'internal_score']\n",
    "categorical_features = ['term', 'home_ownership', 'purpose', 'bad_flag']\n",
    "# 'term' only has two 36/60 months for non-missing values, we used as categorical features"
   ]
  },
  {
   "cell_type": "markdown",
   "metadata": {},
   "source": [
    "some of these concepts are similar and may need more bg info (tot_hi_cred_lim vs total_bc_limit)"
   ]
  },
  {
   "cell_type": "code",
   "execution_count": 65,
   "metadata": {},
   "outputs": [
    {
     "data": {
      "text/plain": [
       "id                               Int64\n",
       "member_id                        Int64\n",
       "loan_amnt                        int64\n",
       "term                            object\n",
       "int_rate                       float64\n",
       "emp_length                     float64\n",
       "home_ownership                  object\n",
       "annual_inc                     float64\n",
       "desc                            object\n",
       "purpose                         object\n",
       "percent_bc_gt_75               float64\n",
       "bc_util                        float64\n",
       "dti                            float64\n",
       "inq_last_6mths                   Int64\n",
       "mths_since_recent_inq            Int64\n",
       "revol_util                     float64\n",
       "total_bc_limit                 float64\n",
       "mths_since_last_major_derog      Int64\n",
       "tot_hi_cred_lim                float64\n",
       "tot_cur_bal                    float64\n",
       "application_approved_flag        int64\n",
       "internal_score                   int64\n",
       "bad_flag                         Int64\n",
       "dtype: object"
      ]
     },
     "execution_count": 65,
     "metadata": {},
     "output_type": "execute_result"
    }
   ],
   "source": [
    "training_data.dtypes"
   ]
  },
  {
   "cell_type": "markdown",
   "metadata": {},
   "source": [
    "I will leave for missing data handling to the model section. Any data/log transformation on features on model section as well.\n",
    "Categorical features will also be converted later depending on what pacakge we use for modelling."
   ]
  }
 ],
 "metadata": {
  "kernelspec": {
   "display_name": "Python 3 (ipykernel)",
   "language": "python",
   "name": "python3"
  },
  "language_info": {
   "codemirror_mode": {
    "name": "ipython",
    "version": 3
   },
   "file_extension": ".py",
   "mimetype": "text/x-python",
   "name": "python",
   "nbconvert_exporter": "python",
   "pygments_lexer": "ipython3",
   "version": "3.12.8"
  }
 },
 "nbformat": 4,
 "nbformat_minor": 4
}
